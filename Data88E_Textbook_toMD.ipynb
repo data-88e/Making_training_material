{
 "cells": [
  {
   "cell_type": "markdown",
   "id": "077446df",
   "metadata": {},
   "source": [
    "# Notebook to get textbook chapters and convert to markdown"
   ]
  },
  {
   "cell_type": "code",
   "execution_count": 2,
   "id": "0814c39c",
   "metadata": {},
   "outputs": [],
   "source": [
    "import tempfile, zipfile, urllib.request, re, nbformat, yaml\n",
    "from pathlib import Path"
   ]
  },
  {
   "cell_type": "code",
   "execution_count": null,
   "id": "f28c2258",
   "metadata": {},
   "outputs": [],
   "source": []
  },
  {
   "cell_type": "markdown",
   "id": "fb94798d",
   "metadata": {},
   "source": [
    "## Set paths for the source files and the output directory\n",
    "\n",
    "- Set source directory for notebooks"
   ]
  },
  {
   "cell_type": "code",
   "execution_count": 3,
   "id": "940e197b",
   "metadata": {},
   "outputs": [],
   "source": [
    "# Data 88E textbook repo\n",
    "REPO_URL  = \"https://github.com/data-88e/textbook\"\n",
    "BRANCH    = \"master\"\n",
    "SUBDIR    = \"content\"   # the subtree we want\n",
    "\n"
   ]
  },
  {
   "cell_type": "markdown",
   "id": "c57f001d",
   "metadata": {},
   "source": [
    "- Set output directory for markdown files"
   ]
  },
  {
   "cell_type": "code",
   "execution_count": 5,
   "id": "2478258e",
   "metadata": {},
   "outputs": [
    {
     "name": "stdout",
     "output_type": "stream",
     "text": [
      "Destination: /Users/ericvandusen/Documents/Data88E-ForTraining/F24Textbook_RAW\n"
     ]
    }
   ],
   "source": [
    "# Where to put downloaded raw files\n",
    "RAW_DIR   = Path(\"~/Documents/Data88E-ForTraining/F24Textbook_RAW\").expanduser()\n",
    "RAW_DIR.mkdir(parents=True, exist_ok=True)\n",
    "\n",
    "print(\"Destination:\", RAW_DIR)"
   ]
  },
  {
   "cell_type": "code",
   "execution_count": 6,
   "id": "ac1892c4",
   "metadata": {},
   "outputs": [],
   "source": [
    "def download_repo_zip(repo_url: str, branch: str, tmp_dir: Path) -> Path:\n",
    "    zip_url = repo_url.rstrip(\"/\") + f\"/archive/refs/heads/{branch}.zip\"\n",
    "    zip_path = tmp_dir / \"repo.zip\"\n",
    "    print(\"Downloading:\", zip_url)\n",
    "    with urllib.request.urlopen(zip_url) as r:\n",
    "        zip_path.write_bytes(r.read())\n",
    "    return zip_path\n",
    "\n",
    "def extract_subdir(zip_path: Path, subdir: str, dest_dir: Path):\n",
    "    with zipfile.ZipFile(zip_path) as zf:\n",
    "        # GitHub zips have a top-level folder like \"textbook-master/\"\n",
    "        top = zf.namelist()[0].split(\"/\")[0]\n",
    "        prefix = f\"{top}/{subdir.strip('/')}/\"\n",
    "        members = [n for n in zf.namelist() if n.startswith(prefix)]\n",
    "        if not members:\n",
    "            raise FileNotFoundError(f\"Subdir '{subdir}' not found in archive.\")\n",
    "        zf.extractall(dest_dir, members)\n",
    "        # move extracted subtree up one level (drop the top/prefix folder)\n",
    "        (dest_dir / top / subdir).rename(dest_dir / subdir)\n",
    "        shutil.rmtree(dest_dir / top)\n",
    "    print(f\"Extracted '{subdir}/' → {dest_dir / subdir}\")"
   ]
  },
  {
   "cell_type": "code",
   "execution_count": 7,
   "id": "f105cbdb",
   "metadata": {},
   "outputs": [
    {
     "name": "stdout",
     "output_type": "stream",
     "text": [
      "Downloading: https://github.com/data-88e/textbook/archive/refs/heads/master.zip\n"
     ]
    },
    {
     "ename": "OSError",
     "evalue": "[Errno 66] Directory not empty: '/Users/ericvandusen/Documents/Data88E-ForTraining/F24Textbook_RAW/textbook-master/content' -> '/Users/ericvandusen/Documents/Data88E-ForTraining/F24Textbook_RAW/content'",
     "output_type": "error",
     "traceback": [
      "\u001b[0;31m---------------------------------------------------------------------------\u001b[0m",
      "\u001b[0;31mOSError\u001b[0m                                   Traceback (most recent call last)",
      "Cell \u001b[0;32mIn[7], line 3\u001b[0m\n\u001b[1;32m      1\u001b[0m \u001b[38;5;28;01mwith\u001b[39;00m tempfile\u001b[38;5;241m.\u001b[39mTemporaryDirectory() \u001b[38;5;28;01mas\u001b[39;00m td:\n\u001b[1;32m      2\u001b[0m     zip_path \u001b[38;5;241m=\u001b[39m download_repo_zip(REPO_URL, BRANCH, Path(td))\n\u001b[0;32m----> 3\u001b[0m     \u001b[43mextract_subdir\u001b[49m\u001b[43m(\u001b[49m\u001b[43mzip_path\u001b[49m\u001b[43m,\u001b[49m\u001b[43m \u001b[49m\u001b[43mSUBDIR\u001b[49m\u001b[43m,\u001b[49m\u001b[43m \u001b[49m\u001b[43mRAW_DIR\u001b[49m\u001b[43m)\u001b[49m\n\u001b[1;32m      5\u001b[0m \u001b[38;5;28mprint\u001b[39m(\u001b[38;5;124m\"\u001b[39m\u001b[38;5;124mDone. Raw files at:\u001b[39m\u001b[38;5;124m\"\u001b[39m, RAW_DIR \u001b[38;5;241m/\u001b[39m SUBDIR)\n",
      "Cell \u001b[0;32mIn[6], line 19\u001b[0m, in \u001b[0;36mextract_subdir\u001b[0;34m(zip_path, subdir, dest_dir)\u001b[0m\n\u001b[1;32m     17\u001b[0m     zf\u001b[38;5;241m.\u001b[39mextractall(dest_dir, members)\n\u001b[1;32m     18\u001b[0m     \u001b[38;5;66;03m# move extracted subtree up one level (drop the top/prefix folder)\u001b[39;00m\n\u001b[0;32m---> 19\u001b[0m     \u001b[43m(\u001b[49m\u001b[43mdest_dir\u001b[49m\u001b[43m \u001b[49m\u001b[38;5;241;43m/\u001b[39;49m\u001b[43m \u001b[49m\u001b[43mtop\u001b[49m\u001b[43m \u001b[49m\u001b[38;5;241;43m/\u001b[39;49m\u001b[43m \u001b[49m\u001b[43msubdir\u001b[49m\u001b[43m)\u001b[49m\u001b[38;5;241;43m.\u001b[39;49m\u001b[43mrename\u001b[49m\u001b[43m(\u001b[49m\u001b[43mdest_dir\u001b[49m\u001b[43m \u001b[49m\u001b[38;5;241;43m/\u001b[39;49m\u001b[43m \u001b[49m\u001b[43msubdir\u001b[49m\u001b[43m)\u001b[49m\n\u001b[1;32m     20\u001b[0m     shutil\u001b[38;5;241m.\u001b[39mrmtree(dest_dir \u001b[38;5;241m/\u001b[39m top)\n\u001b[1;32m     21\u001b[0m \u001b[38;5;28mprint\u001b[39m(\u001b[38;5;124mf\u001b[39m\u001b[38;5;124m\"\u001b[39m\u001b[38;5;124mExtracted \u001b[39m\u001b[38;5;124m'\u001b[39m\u001b[38;5;132;01m{\u001b[39;00msubdir\u001b[38;5;132;01m}\u001b[39;00m\u001b[38;5;124m/\u001b[39m\u001b[38;5;124m'\u001b[39m\u001b[38;5;124m → \u001b[39m\u001b[38;5;132;01m{\u001b[39;00mdest_dir\u001b[38;5;250m \u001b[39m\u001b[38;5;241m/\u001b[39m\u001b[38;5;250m \u001b[39msubdir\u001b[38;5;132;01m}\u001b[39;00m\u001b[38;5;124m\"\u001b[39m)\n",
      "File \u001b[0;32m/opt/homebrew/Caskroom/miniforge/base/lib/python3.12/pathlib.py:1363\u001b[0m, in \u001b[0;36mPath.rename\u001b[0;34m(self, target)\u001b[0m\n\u001b[1;32m   1353\u001b[0m \u001b[38;5;28;01mdef\u001b[39;00m\u001b[38;5;250m \u001b[39m\u001b[38;5;21mrename\u001b[39m(\u001b[38;5;28mself\u001b[39m, target):\n\u001b[1;32m   1354\u001b[0m \u001b[38;5;250m    \u001b[39m\u001b[38;5;124;03m\"\"\"\u001b[39;00m\n\u001b[1;32m   1355\u001b[0m \u001b[38;5;124;03m    Rename this path to the target path.\u001b[39;00m\n\u001b[1;32m   1356\u001b[0m \n\u001b[0;32m   (...)\u001b[0m\n\u001b[1;32m   1361\u001b[0m \u001b[38;5;124;03m    Returns the new Path instance pointing to the target path.\u001b[39;00m\n\u001b[1;32m   1362\u001b[0m \u001b[38;5;124;03m    \"\"\"\u001b[39;00m\n\u001b[0;32m-> 1363\u001b[0m     \u001b[43mos\u001b[49m\u001b[38;5;241;43m.\u001b[39;49m\u001b[43mrename\u001b[49m\u001b[43m(\u001b[49m\u001b[38;5;28;43mself\u001b[39;49m\u001b[43m,\u001b[49m\u001b[43m \u001b[49m\u001b[43mtarget\u001b[49m\u001b[43m)\u001b[49m\n\u001b[1;32m   1364\u001b[0m     \u001b[38;5;28;01mreturn\u001b[39;00m \u001b[38;5;28mself\u001b[39m\u001b[38;5;241m.\u001b[39mwith_segments(target)\n",
      "\u001b[0;31mOSError\u001b[0m: [Errno 66] Directory not empty: '/Users/ericvandusen/Documents/Data88E-ForTraining/F24Textbook_RAW/textbook-master/content' -> '/Users/ericvandusen/Documents/Data88E-ForTraining/F24Textbook_RAW/content'"
     ]
    }
   ],
   "source": [
    "with tempfile.TemporaryDirectory() as td:\n",
    "    zip_path = download_repo_zip(REPO_URL, BRANCH, Path(td))\n",
    "    extract_subdir(zip_path, SUBDIR, RAW_DIR)\n",
    "\n",
    "print(\"Done. Raw files at:\", RAW_DIR / SUBDIR)"
   ]
  },
  {
   "cell_type": "markdown",
   "id": "a00dc927",
   "metadata": {},
   "source": [
    "*one note here - there are a lot of extra files, such as all of the csv data files - we have downloaded everything, but we will only convert the .ipynb files to markdown*"
   ]
  },
  {
   "cell_type": "markdown",
   "id": "407af6fe",
   "metadata": {},
   "source": [
    "## Reformat the files into markdown files and add a summary at the top of the file"
   ]
  },
  {
   "cell_type": "markdown",
   "id": "2284a9ff",
   "metadata": {},
   "source": [
    "- again specify the source and output directories"
   ]
  },
  {
   "cell_type": "code",
   "execution_count": 8,
   "id": "f7e47c8a",
   "metadata": {},
   "outputs": [],
   "source": [
    "SRC_DIR  = Path(\"~/Documents/Data88E-ForTraining/F24Textbook_RAW/content\").expanduser()\n",
    "OUT_DIR  = Path(\"~/Documents/Data88E-ForTraining/F24Textbook_MD\").expanduser()\n",
    "OUT_DIR.mkdir(parents=True, exist_ok=True)"
   ]
  },
  {
   "cell_type": "code",
   "execution_count": 9,
   "id": "de1a48a8",
   "metadata": {},
   "outputs": [],
   "source": [
    "def ensure_newline(s: str) -> str:\n",
    "    return s if s.endswith(\"\\n\") else s + \"\\n\"\n",
    "\n",
    "def ipynb_to_markdown(nb_path: Path) -> str:\n",
    "    nb = nbformat.read(nb_path.open(), as_version=4)\n",
    "    parts = []\n",
    "    for cell in nb.cells:\n",
    "        if cell.cell_type == \"markdown\":\n",
    "            parts.append(cell.source.strip())\n",
    "        elif cell.cell_type == \"code\":\n",
    "            parts.append(\"```python\\n\" + cell.source.rstrip() + \"\\n```\")\n",
    "    return ensure_newline(\"\\n\\n\".join(parts))\n",
    "\n",
    "def parse_chapter(folder_name: str) -> tuple[int | None, str]:\n",
    "    # \"00-intro\" -> (0, \"intro\")\n",
    "    m = re.match(r\"(\\d+)[-_]?(.*)\", folder_name)\n",
    "    if not m:\n",
    "        return None, folder_name\n",
    "    chap = int(m.group(1))\n",
    "    title = m.group(2) or folder_name\n",
    "    return chap, title\n",
    "\n",
    "def write_with_frontmatter(out_path: Path, body_md: str, title: str, chapter: int | None, src_rel: Path):\n",
    "    meta = {\"title\": title, \"type\": \"textbook\", \"source_path\": str(src_rel)}\n",
    "    if chapter is not None:\n",
    "        meta[\"chapter\"] = chapter\n",
    "    out_path.parent.mkdir(parents=True, exist_ok=True)\n",
    "    fm = \"---\\n\" + yaml.safe_dump(meta, sort_keys=False, allow_unicode=True) + \"---\\n\\n\"\n",
    "    out_path.write_text(fm + body_md, encoding=\"utf-8\")\n",
    "\n",
    "def reformat_tree(src_root: Path, out_root: Path, repo_root_label: str = \"content\"):\n",
    "    count = 0\n",
    "    for src in src_root.rglob(\"*\"):\n",
    "        if not src.is_file():\n",
    "            continue\n",
    "        if src.suffix.lower() not in (\".md\", \".ipynb\"):\n",
    "            continue\n",
    "\n",
    "        # infer chapter from top-level folder (e.g., 01-demand)\n",
    "        rel_to_src = src.relative_to(src_root)\n",
    "        top = rel_to_src.parts[0] if rel_to_src.parts else src_root.name\n",
    "        chapter, _ = parse_chapter(top)\n",
    "\n",
    "        # normalize content\n",
    "        if src.suffix.lower() == \".md\":\n",
    "            body = ensure_newline(src.read_text(encoding=\"utf-8\"))\n",
    "            title = src.stem\n",
    "        else:  # .ipynb\n",
    "            body = ipynb_to_markdown(src)\n",
    "            title = src.stem\n",
    "\n",
    "        out_rel  = rel_to_src.with_suffix(\".md\")\n",
    "        out_path = out_root / out_rel\n",
    "\n",
    "        # record a relative source path so you know provenance\n",
    "        src_rel_for_meta = Path(repo_root_label) / rel_to_src\n",
    "        write_with_frontmatter(out_path, body, title, chapter, src_rel_for_meta)\n",
    "        count += 1\n",
    "\n",
    "    print(f\"Normalized {count} files → {out_root}\")\n",
    "\n"
   ]
  },
  {
   "cell_type": "code",
   "execution_count": 10,
   "id": "d40332ab",
   "metadata": {},
   "outputs": [
    {
     "name": "stdout",
     "output_type": "stream",
     "text": [
      "Normalized 79 files → /Users/ericvandusen/Documents/Data88E-ForTraining/F24Textbook_MD\n"
     ]
    }
   ],
   "source": [
    "reformat_tree(SRC_DIR, OUT_DIR)"
   ]
  },
  {
   "cell_type": "markdown",
   "id": "7762045d",
   "metadata": {},
   "source": [
    "## Build week-ordered summary.yaml for lecture notebooks in F24Lec_MD/  "
   ]
  },
  {
   "cell_type": "code",
   "execution_count": 11,
   "id": "653b019b",
   "metadata": {},
   "outputs": [],
   "source": [
    "ROOT = Path(\"~/Documents/Data88E-ForTraining/F24Textbook_MD\").expanduser()\n",
    "SUMMARY = ROOT / \"summary.yaml\""
   ]
  },
  {
   "cell_type": "code",
   "execution_count": 12,
   "id": "0b27a453",
   "metadata": {},
   "outputs": [],
   "source": [
    "def read_front_matter(md_path: Path) -> dict:\n",
    "    text = md_path.read_text(encoding=\"utf-8\")\n",
    "    if not text.startswith(\"---\"):\n",
    "        return {}\n",
    "    lines = text.splitlines(True)\n",
    "    try:\n",
    "        end = lines.index(\"---\\n\", 1)\n",
    "    except ValueError:\n",
    "        return {}\n",
    "    return yaml.safe_load(\"\".join(lines[1:end])) or {}\n",
    "\n",
    "# collect records\n",
    "chapters = {}\n",
    "for md in ROOT.rglob(\"*.md\"):\n",
    "    fm = read_front_matter(md)\n",
    "    chap = fm.get(\"chapter\")\n",
    "    if chap is None:   # skip non-chapter files, if any\n",
    "        continue\n",
    "    rec = {\n",
    "        \"file\": str(md.relative_to(ROOT)),           # e.g., 01-demand/index.md\n",
    "        \"title\": fm.get(\"title\") or md.stem,\n",
    "        \"source_path\": fm.get(\"source_path\", \"\"),\n",
    "        \"type\": fm.get(\"type\", \"textbook\"),\n",
    "    }\n",
    "    chapters.setdefault(int(chap), []).append(rec)\n",
    "\n",
    "# order chapters and files (index.md first within each chapter)\n",
    "def sort_key(rec):\n",
    "    p = Path(rec[\"file\"])\n",
    "    return (0 if p.stem == \"index\" else 1, rec[\"title\"].lower())\n",
    "\n",
    "ordered = []\n",
    "for chap in sorted(chapters.keys()):\n",
    "    items = sorted(chapters[chap], key=sort_key)\n",
    "    # add per-file order\n",
    "    for i, it in enumerate(items, start=1):\n",
    "        it[\"order\"] = i\n",
    "    ordered.append({\n",
    "        \"chapter\": chap,\n",
    "        \"count\": len(items),\n",
    "        \"files\": items\n",
    "    })"
   ]
  },
  {
   "cell_type": "code",
   "execution_count": 13,
   "id": "98825796",
   "metadata": {},
   "outputs": [
    {
     "name": "stdout",
     "output_type": "stream",
     "text": [
      "Wrote /Users/ericvandusen/Documents/Data88E-ForTraining/F24Textbook_MD/summary.yaml with 75 files across 13 chapters.\n"
     ]
    }
   ],
   "source": [
    "SUMMARY.write_text(yaml.safe_dump(ordered, sort_keys=False, allow_unicode=True), encoding=\"utf-8\")\n",
    "print(f\"Wrote {SUMMARY} with {sum(c['count'] for c in ordered)} files across {len(ordered)} chapters.\")"
   ]
  }
 ],
 "metadata": {
  "kernelspec": {
   "display_name": "base",
   "language": "python",
   "name": "python3"
  },
  "language_info": {
   "codemirror_mode": {
    "name": "ipython",
    "version": 3
   },
   "file_extension": ".py",
   "mimetype": "text/x-python",
   "name": "python",
   "nbconvert_exporter": "python",
   "pygments_lexer": "ipython3",
   "version": "3.12.8"
  }
 },
 "nbformat": 4,
 "nbformat_minor": 5
}
