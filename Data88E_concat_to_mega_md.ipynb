{
 "cells": [
  {
   "cell_type": "markdown",
   "id": "94b33e51",
   "metadata": {},
   "source": [
    "# Making a Mega File of Data 88E Materials\n",
    "\n",
    "Concatenate the markdown files for the lecture slides, lecture notebooks, and textbook chapters into three large markdown files."
   ]
  },
  {
   "cell_type": "code",
   "execution_count": 8,
   "id": "c1e7ab10",
   "metadata": {},
   "outputs": [],
   "source": [
    "import os\n",
    "from pathlib import Path"
   ]
  },
  {
   "cell_type": "code",
   "execution_count": 9,
   "id": "0b3a3408",
   "metadata": {},
   "outputs": [],
   "source": [
    "# Define your folders\n",
    "# Define your folders and their summary files\n",
    "folders = {\n",
    "    \"slides\": {\n",
    "        \"path\": Path(\"~/Documents/Data88E-ForTraining/F24LS_md\").expanduser(),\n",
    "        \"summary\": Path(\"~/Documents/Data88E-ForTraining/F24LS_md/summary.yaml\").expanduser()\n",
    "    },\n",
    "    \"lectures\": {\n",
    "        \"path\": Path(\"~/Documents/Data88E-ForTraining/F24Lec_MD\").expanduser(),\n",
    "        \"summary\": Path(\"~/Documents/Data88E-ForTraining/F24Lec_MD/LecNB_summary.yaml\").expanduser()\n",
    "    },\n",
    "    \"textbook\": {\n",
    "        \"path\": Path(\"~/Documents/Data88E-ForTraining/F24Textbook_MD\").expanduser(),\n",
    "        \"summary\": Path(\"~/Documents/Data88E-ForTraining/F24Textbook_MD/summary.yaml\").expanduser()\n",
    "    }\n",
    "}"
   ]
  },
  {
   "cell_type": "code",
   "execution_count": 10,
   "id": "8cf6f5a2",
   "metadata": {},
   "outputs": [],
   "source": [
    "# Course-level summary (optional global context)\n",
    "course_summary = Path(\"~/Documents/Data88E-ForTraining/course_summary.yaml\").expanduser()\n",
    "\n",
    "# Output directory\n",
    "output_dir = Path(\"~/Documents/Data88E-ForTraining/mega_files\").expanduser()\n",
    "output_dir.mkdir(parents=True, exist_ok=True)"
   ]
  },
  {
   "cell_type": "code",
   "execution_count": 13,
   "id": "666c0be6",
   "metadata": {},
   "outputs": [],
   "source": [
    "\n",
    "\n",
    "def make_section_mega_file(label: str, folder: Path, summary_file: Path):\n",
    "    \"\"\"Concatenate section summary + all .md files (recursively).\"\"\"\n",
    "    out_path = output_dir / f\"{label}_mega.md\"\n",
    "    with open(out_path, \"w\", encoding=\"utf-8\") as outfile:\n",
    "        # Insert section summary at top\n",
    "        if summary_file.exists():\n",
    "            outfile.write(f\"\\n\\n--- SUMMARY for {label.upper()} ---\\n\\n\")\n",
    "            outfile.write(summary_file.read_text(encoding=\"utf-8\"))\n",
    "            outfile.write(\"\\n\\n\")\n",
    "\n",
    "        # Insert all markdown files\n",
    "        for md_file in sorted(folder.rglob(\"*.md\")):\n",
    "            outfile.write(f\"\\n\\n--- START {md_file.relative_to(folder)} ---\\n\\n\")\n",
    "            outfile.write(md_file.read_text(encoding=\"utf-8\"))\n",
    "            outfile.write(f\"\\n\\n--- END {md_file.relative_to(folder)} ---\\n\\n\")\n",
    "\n",
    "    print(f\"✅ Created {out_path}\")\n",
    "\n",
    "def make_course_summary_file():\n",
    "    \"\"\"Create a standalone course summary mega-file.\"\"\"\n",
    "    if course_summary.exists():\n",
    "        out_path = output_dir / \"course_mega.md\"\n",
    "        with open(out_path, \"w\", encoding=\"utf-8\") as outfile:\n",
    "            outfile.write(f\"--- COURSE SUMMARY ---\\n\\n\")\n",
    "            outfile.write(course_summary.read_text(encoding=\"utf-8\"))\n",
    "        print(f\"✅ Created {out_path}\")\n",
    "    else:\n",
    "        print(\"⚠️ No course summary found\")\n",
    "\n"
   ]
  },
  {
   "cell_type": "code",
   "execution_count": 14,
   "id": "b0c696a8",
   "metadata": {},
   "outputs": [
    {
     "name": "stdout",
     "output_type": "stream",
     "text": [
      "✅ Created /Users/ericvandusen/Documents/Data88E-ForTraining/mega_files/slides_mega.md\n",
      "✅ Created /Users/ericvandusen/Documents/Data88E-ForTraining/mega_files/lectures_mega.md\n",
      "✅ Created /Users/ericvandusen/Documents/Data88E-ForTraining/mega_files/textbook_mega.md\n",
      "✅ Created /Users/ericvandusen/Documents/Data88E-ForTraining/mega_files/course_mega.md\n"
     ]
    }
   ],
   "source": [
    "# Build mega files for each folder\n",
    "for label, meta in folders.items():\n",
    "    make_section_mega_file(label, meta[\"path\"], meta[\"summary\"])\n",
    "\n",
    "# Build standalone course summary file\n",
    "make_course_summary_file()"
   ]
  },
  {
   "cell_type": "code",
   "execution_count": null,
   "id": "ec77854d",
   "metadata": {},
   "outputs": [],
   "source": []
  }
 ],
 "metadata": {
  "kernelspec": {
   "display_name": "base",
   "language": "python",
   "name": "python3"
  },
  "language_info": {
   "codemirror_mode": {
    "name": "ipython",
    "version": 3
   },
   "file_extension": ".py",
   "mimetype": "text/x-python",
   "name": "python",
   "nbconvert_exporter": "python",
   "pygments_lexer": "ipython3",
   "version": "3.12.8"
  }
 },
 "nbformat": 4,
 "nbformat_minor": 5
}
