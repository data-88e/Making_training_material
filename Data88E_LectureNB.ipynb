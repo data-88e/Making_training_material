{
 "cells": [
  {
   "cell_type": "markdown",
   "id": "2d18f376",
   "metadata": {},
   "source": [
    "# Fetching Lecture Jupyter Notebooks and Converting ipynb to Markdown"
   ]
  },
  {
   "cell_type": "code",
   "execution_count": 3,
   "id": "5e74b409",
   "metadata": {},
   "outputs": [],
   "source": [
    "from pathlib import Path\n",
    "import re\n",
    "import yaml\n",
    "import urllib.request, zipfile, tempfile, shutil\n",
    "import nbformat\n",
    "\n",
    "\n",
    "# ensure PyYAML\n",
    "try:\n",
    "    import yaml\n",
    "except ImportError:\n",
    "    import sys, subprocess\n",
    "    subprocess.check_call([sys.executable, \"-m\", \"pip\", \"install\", \"pyyaml\"])\n",
    "    import yaml"
   ]
  },
  {
   "cell_type": "markdown",
   "id": "8a0ba6ad",
   "metadata": {},
   "source": [
    "## Build a workflow to fetch and convert notebooks from Github\n",
    "This script fetches Jupyter notebooks from a specified GitHub repository and converts them to Markdown format. \n",
    "\n",
    "\n",
    "- First  set he paths to the Github\n",
    "- Starting with just the `lec` notebooks \n",
    "- Download to a local directory\n",
    "\n",
    "There are a few steps that need to be done in order \n"
   ]
  },
  {
   "cell_type": "code",
   "execution_count": 2,
   "id": "c1afa0b1",
   "metadata": {},
   "outputs": [
    {
     "name": "stdout",
     "output_type": "stream",
     "text": [
      "Destination: /Users/ericvandusen/Documents/Data88E-ForTraining/F24Lec_NBs\n"
     ]
    }
   ],
   "source": [
    "\n",
    "REPO_URL  = \"https://github.com/data-88e/fa24-materials\"   \n",
    "BRANCH    = \"main\"                          \n",
    "\n",
    "# OPTIONAL: only copy notebooks from within this subfolder of the repo\n",
    "# leave \"\" to copy from the whole repo\n",
    "SUBPATH_IN_REPO = \"lec\"               # e.g., \"lectures\", \"labs\", \"\" (all)\n",
    "\n",
    "# Where to put the notebooks we fetch\n",
    "DEST_DIR = Path(\"~/Documents/Data88E-ForTraining/F24Lec_NBs\").expanduser()\n",
    "DEST_DIR.mkdir(parents=True, exist_ok=True)\n",
    "\n",
    "print(\"Destination:\", DEST_DIR)"
   ]
  },
  {
   "cell_type": "markdown",
   "id": "e615b3e6",
   "metadata": {},
   "source": [
    "## Build a functions to export ipynb to md"
   ]
  },
  {
   "cell_type": "code",
   "execution_count": 5,
   "id": "d6c5607c",
   "metadata": {},
   "outputs": [],
   "source": [
    "def fetch_notebooks(repo_url: str, branch: str, subpath: str, dest_dir: Path):\n",
    "    # Build GitHub archive URL\n",
    "    zip_url = repo_url.rstrip(\"/\") + f\"/archive/refs/heads/{branch}.zip\"\n",
    "    print(\"Downloading:\", zip_url)\n",
    "\n",
    "    with tempfile.TemporaryDirectory() as td:\n",
    "        zip_path = Path(td) / \"repo.zip\"\n",
    "        urllib.request.urlretrieve(zip_url, zip_path)\n",
    "\n",
    "        with zipfile.ZipFile(zip_path) as zf:\n",
    "            top = zf.namelist()[0].split(\"/\")[0]   # repo folder inside zip\n",
    "            zf.extractall(td)\n",
    "        \n",
    "        src_root = Path(td) / top\n",
    "        if subpath:\n",
    "            src_root = src_root / subpath\n",
    "\n",
    "        copied = 0\n",
    "        for nb in src_root.rglob(\"*.ipynb\"):\n",
    "            rel = nb.relative_to(src_root)\n",
    "            out = dest_dir / rel\n",
    "            out.parent.mkdir(parents=True, exist_ok=True)\n",
    "            shutil.copy2(nb, out)\n",
    "            copied += 1\n",
    "    \n",
    "    print(f\"Copied {copied} notebooks → {dest_dir}\")"
   ]
  },
  {
   "cell_type": "markdown",
   "id": "2d6368b6",
   "metadata": {},
   "source": [
    "## Run the download script "
   ]
  },
  {
   "cell_type": "code",
   "execution_count": 6,
   "id": "d28ff747",
   "metadata": {},
   "outputs": [
    {
     "name": "stdout",
     "output_type": "stream",
     "text": [
      "Downloading: https://github.com/data-88e/fa24-materials/archive/refs/heads/main.zip\n",
      "Copied 41 notebooks → /Users/ericvandusen/Documents/Data88E-ForTraining/F24Lec_NBs\n",
      "\n",
      "Sample files:\n",
      " - lec01/lec01.ipynb\n",
      " - lec02/Avocados_demand.ipynb\n",
      " - lec02/Demand_Steps_24.ipynb\n",
      " - lec02/PriceElasticity.ipynb\n",
      " - lec02/ScannerData_Beer.ipynb\n",
      " - lec02/demand-curve-Fa24.ipynb\n",
      " - lec03/3.0-CubicCostCurve.ipynb\n",
      " - lec03/3.1-Supply.ipynb\n",
      " - lec03/3.2-sympy.ipynb\n",
      " - lec03/3.3a-california-energy.ipynb\n"
     ]
    }
   ],
   "source": [
    "# ---- run it ----\n",
    "fetch_notebooks(REPO_URL, BRANCH, SUBPATH_IN_REPO, DEST_DIR)\n",
    "\n",
    "print(\"\\nSample files:\")\n",
    "for p in sorted(DEST_DIR.rglob(\"*.ipynb\"))[:10]:\n",
    "    print(\" -\", p.relative_to(DEST_DIR))"
   ]
  },
  {
   "cell_type": "markdown",
   "id": "eee3497b",
   "metadata": {},
   "source": [
    "##  Next we will build a script to convert the ipynb files to markdown \n",
    "\n",
    "First set paths for the notebooks and the output directory"
   ]
  },
  {
   "cell_type": "code",
   "execution_count": 4,
   "id": "bf864749",
   "metadata": {},
   "outputs": [],
   "source": [
    "NB_DIR   = Path(\"~/Documents/Data88E-ForTraining/F24Lec_NBs\").expanduser()\n",
    "OUT_DIR  = Path(\"~/Documents/Data88E-ForTraining/F24Lec_MD\").expanduser()\n",
    "OUT_DIR.mkdir(parents=True, exist_ok=True)"
   ]
  },
  {
   "cell_type": "code",
   "execution_count": 6,
   "id": "a51ace12",
   "metadata": {},
   "outputs": [],
   "source": [
    "\n",
    "def infer_week(path: Path) -> int | None:\n",
    "    \"\"\"\n",
    "    Look at parent folder name like 'lec01' → 1, 'lec12' → 12.\n",
    "    \"\"\"\n",
    "    m = re.search(r\"lec\\s*0*([0-9]+)\", path.parent.name, flags=re.IGNORECASE)\n",
    "    return int(m.group(1)) if m else None\n",
    "\n",
    "def nb_to_md(nb_path: Path, out_path: Path):\n",
    "    nb = nbformat.read(nb_path.open(), as_version=4)\n",
    "    week = infer_week(nb_path)\n",
    "\n",
    "    with out_path.open(\"w\", encoding=\"utf-8\") as f:\n",
    "        # --- front matter ---\n",
    "        f.write(\"---\\n\")\n",
    "        f.write(f'title: \"{nb_path.stem}\"\\n')\n",
    "        f.write(\"type: lecture-notebook\\n\")\n",
    "        if week is not None:\n",
    "            f.write(f\"week: {week}\\n\")\n",
    "        f.write(f'source_path: \"{nb_path}\"\\n')\n",
    "        f.write(\"---\\n\\n\")\n",
    "\n",
    "        # --- cells ---\n",
    "        for cell in nb.cells:\n",
    "            if cell.cell_type == \"markdown\":\n",
    "                f.write(cell.source.strip() + \"\\n\\n\")\n",
    "            elif cell.cell_type == \"code\":\n",
    "                f.write(\"```python\\n\" + cell.source.rstrip() + \"\\n```\\n\\n\")\n",
    "\n"
   ]
  },
  {
   "cell_type": "code",
   "execution_count": 7,
   "id": "a74fd2d9",
   "metadata": {},
   "outputs": [
    {
     "name": "stdout",
     "output_type": "stream",
     "text": [
      "Converted 41 notebooks → /Users/ericvandusen/Documents/Data88E-ForTraining/F24Lec_MD\n"
     ]
    }
   ],
   "source": [
    "# Walk all notebooks recursively, keep lec01/lec02/... structure in OUT_DIR\n",
    "count = 0\n",
    "for nb_file in NB_DIR.rglob(\"*.ipynb\"):\n",
    "    rel = nb_file.relative_to(NB_DIR)           # preserve folder layout\n",
    "    out_file = OUT_DIR / rel.with_suffix(\".md\")\n",
    "    out_file.parent.mkdir(parents=True, exist_ok=True)\n",
    "    nb_to_md(nb_file, out_file)\n",
    "    count += 1\n",
    "\n",
    "print(f\"Converted {count} notebooks → {OUT_DIR}\")"
   ]
  },
  {
   "cell_type": "markdown",
   "id": "e59fb8d9",
   "metadata": {},
   "source": [
    "*Now you should be able to check the markdown files in the output directory.*\n",
    "\n",
    "e.g. `~/Documents/Data88E-ForTraining/F24Lec_MD/lec02/Avocados_demand.md`"
   ]
  },
  {
   "cell_type": "markdown",
   "id": "3c950e0b",
   "metadata": {},
   "source": [
    "## Build week-ordered summary.yaml for lecture notebooks in F24Lec_MD/\n",
    "Folder pattern: F24Lec_MD/lec01/*.md, lec02/*.md, ...\n",
    "Each week can have 1..N notebooks."
   ]
  },
  {
   "cell_type": "code",
   "execution_count": 8,
   "id": "27baf860",
   "metadata": {},
   "outputs": [
    {
     "name": "stdout",
     "output_type": "stream",
     "text": [
      "Wrote /Users/ericvandusen/Documents/Data88E-ForTraining/F24Lec_MD/LecNB_summary.yaml with 41 notebooks across 14 weeks.\n"
     ]
    }
   ],
   "source": [
    "MD_ROOT = Path(\"~/Documents/Data88E-ForTraining/F24Lec_MD\").expanduser()\n",
    "SUMMARY_PATH = MD_ROOT / \"LecNB_summary.yaml\"\n",
    "\n",
    "WEEK_DIR_RE = re.compile(r\"lec\\s*0*([0-9]+)\", flags=re.IGNORECASE)\n",
    "\n",
    "def infer_week_from_dir(p: Path) -> int | None:\n",
    "    m = WEEK_DIR_RE.search(p.name)\n",
    "    return int(m.group(1)) if m else None\n",
    "\n",
    "def read_front_matter(md_path: Path) -> dict:\n",
    "    text = md_path.read_text(encoding=\"utf-8\")\n",
    "    if not text.startswith(\"---\"):\n",
    "        return {}\n",
    "    lines = text.splitlines(True)\n",
    "    try:\n",
    "        end = lines.index(\"---\\n\", 1)\n",
    "    except ValueError:\n",
    "        return {}\n",
    "    return yaml.safe_load(\"\".join(lines[1:end])) or {}\n",
    "\n",
    "# Collect notebooks grouped by week\n",
    "weeks = {}\n",
    "for md_file in MD_ROOT.rglob(\"*.md\"):\n",
    "    # infer week from parent dir like lec01\n",
    "    week = infer_week_from_dir(md_file.parent)\n",
    "    # fall back to front-matter 'week' if present\n",
    "    if week is None:\n",
    "        fm = read_front_matter(md_file)\n",
    "        week = fm.get(\"week\")\n",
    "    if week is None:\n",
    "        # skip anything that doesn't match the pattern\n",
    "        # (or put into a special bucket if you prefer)\n",
    "        continue\n",
    "\n",
    "    fm = read_front_matter(md_file)\n",
    "    title = fm.get(\"title\") or md_file.stem\n",
    "    entry = {\n",
    "        \"file\": str(md_file.relative_to(MD_ROOT)),   # keep lecXX/subpath.md\n",
    "        \"title\": str(title),\n",
    "        \"type\": fm.get(\"type\", \"lecture-notebook\"),\n",
    "        \"source_path\": fm.get(\"source_path\", \"\"),\n",
    "    }\n",
    "    weeks.setdefault(int(week), []).append(entry)\n",
    "\n",
    "# Order weeks, and notebooks inside each week\n",
    "ordered = []\n",
    "for wk in sorted(weeks.keys()):\n",
    "    notebooks = sorted(weeks[wk], key=lambda e: e[\"title\"].lower())\n",
    "    ordered.append({\n",
    "        \"week\": int(wk),\n",
    "        \"count\": len(notebooks),\n",
    "        \"notebooks\": notebooks,\n",
    "    })\n",
    "\n",
    "# Write summary.yaml\n",
    "SUMMARY_PATH.write_text(\n",
    "    yaml.safe_dump(ordered, sort_keys=False, allow_unicode=True),\n",
    "    encoding=\"utf-8\"\n",
    ")\n",
    "\n",
    "print(f\"Wrote {SUMMARY_PATH} with {sum(w['count'] for w in ordered)} notebooks across {len(ordered)} weeks.\")"
   ]
  },
  {
   "cell_type": "markdown",
   "id": "dc9c8ef8",
   "metadata": {},
   "source": [
    "*Now you should be able to check the markdown files in the output directory.*\n",
    "\n",
    "e.g. `~/Documents/Data88E-ForTraining/F24Lec_MD/LecNB_summary.yaml`"
   ]
  },
  {
   "cell_type": "markdown",
   "id": "17f980ca",
   "metadata": {},
   "source": []
  }
 ],
 "metadata": {
  "kernelspec": {
   "display_name": "base",
   "language": "python",
   "name": "python3"
  },
  "language_info": {
   "codemirror_mode": {
    "name": "ipython",
    "version": 3
   },
   "file_extension": ".py",
   "mimetype": "text/x-python",
   "name": "python",
   "nbconvert_exporter": "python",
   "pygments_lexer": "ipython3",
   "version": "3.12.8"
  }
 },
 "nbformat": 4,
 "nbformat_minor": 5
}
